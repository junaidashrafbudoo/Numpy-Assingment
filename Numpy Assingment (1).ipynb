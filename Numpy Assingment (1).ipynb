{
 "cells": [
  {
   "cell_type": "markdown",
   "id": "09996f2e-8e37-4347-94b8-7d008653a45c",
   "metadata": {},
   "source": [
    "# 1. What is a Python library? Why do we use Python libraries?"
   ]
  },
  {
   "cell_type": "markdown",
   "id": "7bf5cb7d-f53c-49df-aeb5-061d19897079",
   "metadata": {},
   "source": [
    "In Python, libraries are collections of pre-written, reusable code modules that provide functionality for various tasks. These modules contain functions, classes, and variables that you can import and use directly in your Python programs.\n",
    "\n",
    "Here are few reasons why we use python libraries:\n",
    "\n",
    "* **Reusability:** Python libraries allow us to to reuse the code that has already been written. \n",
    "* **Increased productivity:** Python libraries provide ready to use solutions for a wide range of tasks, numerical computing to machine learning.\n",
    "* **Perfomance Optimization:**   Many Python libraries are implemented in low level languages like C or C++, which can significantly improve performance for computationally intensive tasks.\n",
    "* **Community and Support:** Many popular libaries have robust communities offering support through forums, documentation and tutorials. This allows you to seek assistance and learn from other's experiences when encountering challanges.\n",
    " #### Examples of Python Libraries:\n",
    " * **Numpy:** Used in numerical computing and array manipulation.\n",
    " * **Pandas:** Used for data analysis and manipulation\n",
    " * **Matplotlib:** Used for Data visualization\n",
    " * **Sciket learn:** Used in machine learning"
   ]
  },
  {
   "cell_type": "markdown",
   "id": "e56c41b9-3a2d-4dde-998b-9997a89c6253",
   "metadata": {},
   "source": [
    "# 2. What is the difference between Numpy array and List?"
   ]
  },
  {
   "cell_type": "markdown",
   "id": "064b0d81-9ee4-4cd2-820a-398306a65a0b",
   "metadata": {},
   "source": [
    "Numpy arrays and Python lists are both data strutures used to store data, but they have several key differences:\n",
    "\n",
    "* **Data Types**: In Python lists, elements can be of any data type. In contrast numpy arrays are homogenous, meaning all the elements in the array must have the same data type.\n",
    "* **Memory Effciency:** Numpy arays are more memory effcient than python lists. Thee effciency is achieved because numpy arrays are implemented as contiguous blocks of memory, whereas Python lists are arrays of pointers to objects dcattered thoughout memory. Additionaly, numpy arrays store data in a more compact format, which reduces memory overhead.\n",
    "* **Performance:** Numpy arrays offer better performance for numerical computations compared to Python lists. Numpy provides optimized implementations of mathematical operations that operate on entire arrays at once (vectorized operations), whereas in Python, you would typically need to use loops to perform the same operations on list elements. This vectorization leads to faster execution times for numerical computations with Numpy arrays.\n",
    "* **Functionality:** Numpy arrays offer a wide range of built in functions and methods for performing mathematical operations, array manipulation, linear algebra, random number generation, and more. Python lists, while versatile, have fewer built-in functions and are not optimized for numerical computations.\n",
    "* **Indexing and Slicing:** Both Numpy arrays and Python lists support indexing and slicing to access elements or sublists. However, Numpy arrays offer more advanced indexing techniques, such as boolean indexing and fancy indexing, which allow for more flexible and efficient data manipulation.\n",
    "* **Mutablity:** Numpy arrays and Python lists are mutable, meaning their elements can be modified after creation. However, Numpy arrays have fixed sizes, so you cannot directly append or remove elements from an existing array like you can with Python lists. Instead, you typically create new arrays with the desired elements."
   ]
  },
  {
   "cell_type": "markdown",
   "id": "381368ad-98c7-424e-a70c-d60c9b02acc6",
   "metadata": {},
   "source": [
    "# 3. Find the shape, size and dimension of the following array?\n",
    "\n",
    "[[1, 2, 3, 4]\n",
    "\n",
    "[5, 6, 7, 8],\n",
    "\n",
    "[9, 10, 11, 12]]"
   ]
  },
  {
   "cell_type": "code",
   "execution_count": 1,
   "id": "1ff69b5f-8c2b-4b7c-872e-a5af79a351cb",
   "metadata": {},
   "outputs": [],
   "source": [
    "import numpy as np"
   ]
  },
  {
   "cell_type": "code",
   "execution_count": 15,
   "id": "ffe3dc1e-7b38-47ff-bae0-18c34d79a56c",
   "metadata": {},
   "outputs": [
    {
     "data": {
      "text/plain": [
       "array([[ 1,  2,  3,  4],\n",
       "       [ 5,  6,  7,  8],\n",
       "       [ 9, 10, 11, 12]])"
      ]
     },
     "execution_count": 15,
     "metadata": {},
     "output_type": "execute_result"
    }
   ],
   "source": [
    "arr = np.array([[1,2,3,4],[5,6,7,8],[9,10,11,12]])\n",
    "\n",
    "arr\n"
   ]
  },
  {
   "cell_type": "code",
   "execution_count": 12,
   "id": "d21c73af-6832-407f-9beb-8b822ffa4aac",
   "metadata": {},
   "outputs": [
    {
     "data": {
      "text/plain": [
       "(3, 4)"
      ]
     },
     "execution_count": 12,
     "metadata": {},
     "output_type": "execute_result"
    }
   ],
   "source": [
    "arr.shape"
   ]
  },
  {
   "cell_type": "code",
   "execution_count": 13,
   "id": "0355bdb3-9c1c-4dc7-ad9d-74b619629bab",
   "metadata": {},
   "outputs": [
    {
     "data": {
      "text/plain": [
       "12"
      ]
     },
     "execution_count": 13,
     "metadata": {},
     "output_type": "execute_result"
    }
   ],
   "source": [
    "arr.size"
   ]
  },
  {
   "cell_type": "code",
   "execution_count": 10,
   "id": "1664f00b-0c52-4df2-8193-a603f58c6fc2",
   "metadata": {},
   "outputs": [
    {
     "data": {
      "text/plain": [
       "2"
      ]
     },
     "execution_count": 10,
     "metadata": {},
     "output_type": "execute_result"
    }
   ],
   "source": [
    "arr.ndim"
   ]
  },
  {
   "cell_type": "markdown",
   "id": "9106fa46-7e6c-4f3a-a7cc-29b4cbead45e",
   "metadata": {},
   "source": [
    "# 4. Write python code to access the first row of the following array?\n",
    "\n",
    "[[1, 2, 3, 4]\n",
    "\n",
    "[5, 6, 7, 8],\n",
    "\n",
    "[9, 10, 11, 12]]"
   ]
  },
  {
   "cell_type": "code",
   "execution_count": 17,
   "id": "3aa5f652-8768-4304-a244-b9db050ce0fa",
   "metadata": {},
   "outputs": [
    {
     "name": "stdout",
     "output_type": "stream",
     "text": [
      "[1, 2, 3, 4]\n"
     ]
    }
   ],
   "source": [
    "arr1 = [[1,2,3,4],[5,6,7,8],[9,10,11,12]]                    # create the array\n",
    "\n",
    "firstrow = arr1[0]                                          # accessing the first element using indexing\n",
    "\n",
    "print(firstrow)"
   ]
  },
  {
   "cell_type": "markdown",
   "id": "c2b02870-c312-4f2e-a973-c6fbdd89399b",
   "metadata": {},
   "source": [
    "# 5. How do you access the element at the third row and fourth column from the given numpy array?\n",
    "\n",
    "[[1, 2, 3, 4]\n",
    "\n",
    "[5, 6, 7, 8],\n",
    "\n",
    "[9, 10, 11, 12]]"
   ]
  },
  {
   "cell_type": "markdown",
   "id": "dea4b15f-7bce-4e10-abce-84508791c6bb",
   "metadata": {},
   "source": [
    "To access the element at the third row and fourth column from the given numpy array, we can use array indexing with  square brackets. In python, indexing starts from 0, so the third row and fourth column corrospond to index 2 and 3 respectively. here is  how can we do it."
   ]
  },
  {
   "cell_type": "code",
   "execution_count": 19,
   "id": "648f79a9-04cb-4bef-b6bb-f355570afdc6",
   "metadata": {},
   "outputs": [
    {
     "name": "stdout",
     "output_type": "stream",
     "text": [
      "element at the third row and fourth column is  12\n"
     ]
    }
   ],
   "source": [
    "arr2 = np.array([[1,2,3,4],[5,6,7,8],[9,10,11,12]])\n",
    "ele = arr2[2,3]\n",
    "print(\"element at the third row and fourth column is \" , ele)"
   ]
  },
  {
   "cell_type": "markdown",
   "id": "ee895467-01c5-4a17-b135-25ebdf5b9548",
   "metadata": {},
   "source": [
    "# 6. Write code to extract all odd-indexed elements from the given numpy array?\n",
    "\n",
    "[[1, 2, 3, 4]\n",
    "\n",
    "[5, 6, 7, 8],\n",
    "\n",
    "[9, 10, 11, 12]]"
   ]
  },
  {
   "cell_type": "code",
   "execution_count": 23,
   "id": "e14cc02e-88a6-4c7c-8ac9-74f61962dbae",
   "metadata": {},
   "outputs": [
    {
     "name": "stdout",
     "output_type": "stream",
     "text": [
      "[[ 2  4]\n",
      " [ 6  8]\n",
      " [10 12]]\n"
     ]
    }
   ],
   "source": [
    "arr = np.array([\n",
    "    [1, 2, 3, 4],\n",
    "    [5, 6, 7, 8],\n",
    "    [9, 10, 11, 12]\n",
    "])\n",
    "\n",
    "\n",
    "odd_elements = arr[:, 1::2]        \n",
    "\n",
    "print(odd_elements)\n"
   ]
  },
  {
   "cell_type": "markdown",
   "id": "9e69eb68-7caf-444e-81b9-e69a8ef0277f",
   "metadata": {},
   "source": [
    "# 7. How can you generate a random 3x3 matrix with values between 0 and 1?"
   ]
  },
  {
   "cell_type": "markdown",
   "id": "25b1b1f8-7c22-453a-b7a8-aec469c4d730",
   "metadata": {},
   "source": [
    "We can generate a random 3x3 matrix with values betweeen 0 and 1 using numpy's  **np.random.rand()** function. This function generates random values from a uniform distribution over the interval [0, 1). "
   ]
  },
  {
   "cell_type": "code",
   "execution_count": 26,
   "id": "3ffb58e8-cc7f-497d-ba8f-c49ce36a2624",
   "metadata": {},
   "outputs": [
    {
     "data": {
      "text/plain": [
       "array([[0.13132984, 0.29627998, 0.14358287],\n",
       "       [0.7728163 , 0.89501993, 0.49087173],\n",
       "       [0.37032416, 0.15722242, 0.62485554]])"
      ]
     },
     "execution_count": 26,
     "metadata": {},
     "output_type": "execute_result"
    }
   ],
   "source": [
    "arr4 = np.random.rand(3,3)\n",
    "arr4"
   ]
  },
  {
   "cell_type": "markdown",
   "id": "79d80693-7641-4e7e-a8d1-1811eaf599f7",
   "metadata": {},
   "source": [
    "# 8. Describe the difference between np.random.rand and np.random.randn?\n",
    "\n"
   ]
  },
  {
   "cell_type": "code",
   "execution_count": 27,
   "id": "53f6eb42-e9fa-4f45-9dbc-8855f71449a9",
   "metadata": {},
   "outputs": [
    {
     "name": "stdout",
     "output_type": "stream",
     "text": [
      "[[0.97748422 0.31236782 0.48561549 0.20996515]\n",
      " [0.80560595 0.87424482 0.88175895 0.93322954]\n",
      " [0.24151741 0.61398119 0.67042948 0.35044043]]\n",
      "[[-0.1982299  -0.24461481 -0.47035617 -0.31587968]\n",
      " [-1.13843065  1.17409239  0.86563452  0.02229783]\n",
      " [-0.9951195  -1.33178292 -0.88224848 -0.20329824]]\n"
     ]
    }
   ],
   "source": [
    "# To illustrate the differences, consider the followinfg code\n",
    "\n",
    "\n",
    "# Generate random numbers from uniform distribution\n",
    "uniform_samples = np.random.rand(3, 4)\n",
    "\n",
    "# Generate random numbers from standard normal distribution\n",
    "normal_samples = np.random.randn(3, 4)\n",
    "\n",
    "print(uniform_samples)  # Values will be between 0 (inclusive) and 1 (exclusive)\n",
    "print(normal_samples)  # Values will be centered around 0 and have decreasing probability as they move away\n"
   ]
  },
  {
   "cell_type": "markdown",
   "id": "84f40fe2-0b31-41fd-847e-89dab69b6a4d",
   "metadata": {},
   "source": [
    "np.random.rand is for uniform distribution within [0, 1).\n",
    "                                                   \n",
    "np.random.randn is for the standard normal distribution with a mean of 0 and a standard deviation of 1."
   ]
  },
  {
   "cell_type": "markdown",
   "id": "78c75022-a071-4d28-bb53-897dff96dc63",
   "metadata": {},
   "source": [
    "# 9. Write code to increase the dimension of the following array?\n",
    "\n",
    "[[1, 2, 3, 4]\n",
    "\n",
    "[5, 6, 7, 8],\n",
    "\n",
    "[9, 10, 11, 12]]"
   ]
  },
  {
   "cell_type": "code",
   "execution_count": 29,
   "id": "473b56be-b23a-4934-a398-b415ce43e646",
   "metadata": {},
   "outputs": [
    {
     "name": "stdout",
     "output_type": "stream",
     "text": [
      "[[[ 1  2  3  4]\n",
      "  [ 5  6  7  8]\n",
      "  [ 9 10 11 12]]]\n"
     ]
    }
   ],
   "source": [
    "arr5 = np.array([\n",
    "    [1, 2, 3, 4],\n",
    "    [5, 6, 7, 8],\n",
    "    [9, 10, 11, 12]\n",
    "])\n",
    "\n",
    "expanded = np.expand_dims(arr5 , axis = 0)\n",
    "\n",
    "print(expanded)"
   ]
  },
  {
   "cell_type": "markdown",
   "id": "11f0c5e4-e873-45c4-9ddd-ab0344fd2444",
   "metadata": {},
   "source": [
    "# 10. How to transpose the following array in NumPy?\n",
    "\n",
    "[[1, 2, 3, 4]\n",
    "\n",
    "[5, 6, 7, 8],\n",
    "\n",
    "[9, 10, 11, 12]]"
   ]
  },
  {
   "cell_type": "code",
   "execution_count": 31,
   "id": "952a0293-7a65-4b0e-949c-d889c7e104dd",
   "metadata": {},
   "outputs": [
    {
     "name": "stdout",
     "output_type": "stream",
     "text": [
      "Original array:\n",
      "[[ 1  2  3  4]\n",
      " [ 5  6  7  8]\n",
      " [ 9 10 11 12]]\n",
      "\n",
      "Transposed array:\n",
      "[[ 1  5  9]\n",
      " [ 2  6 10]\n",
      " [ 3  7 11]\n",
      " [ 4  8 12]]\n"
     ]
    }
   ],
   "source": [
    "# We can transpose the given array using the np.transpose function or by accessing the T attribute of the numpy array\n",
    "\n",
    "arr6 = np.array([\n",
    "    [1, 2, 3, 4],\n",
    "    [5, 6, 7, 8],\n",
    "    [9, 10, 11, 12]\n",
    "])\n",
    "\n",
    "transposed_arr = np.transpose(arr6)\n",
    "\n",
    "print(\"Original array:\")\n",
    "print(arr6)\n",
    "print(\"\\nTransposed array:\")\n",
    "print(transposed_arr)\n",
    "\n",
    "\n"
   ]
  },
  {
   "cell_type": "markdown",
   "id": "2ed77b5b-9616-4ed7-a241-6ac57e0035f6",
   "metadata": {},
   "source": [
    "# 11. Consider the following matrix:\n",
    "\n",
    "Matrix A [\n",
    "[1, 2, 3, 4] \n",
    "[5, 6, 7, 8],\n",
    "[9, 10, 11, 12]\n",
    "]\n",
    "\n",
    "Matrix B [[1, 2, 3, 4] [5, 6, 7, 8],[9, 10, 11, 12]]\n",
    "\n",
    "\n",
    "# Perform the following operation using Python:\n",
    "* **Index wise multiplication**\n",
    "* **Matrix multiplication**\n",
    "* **Add both matices**\n",
    "* **Subtract matrix B from A**\n",
    "* **Divide Matrix B by A**\n"
   ]
  },
  {
   "cell_type": "code",
   "execution_count": 39,
   "id": "73e0a7e3-f87e-4642-b195-471462a747b8",
   "metadata": {},
   "outputs": [
    {
     "name": "stdout",
     "output_type": "stream",
     "text": [
      "Index wise matrix multiplication of matrices A and B is :\n",
      "[[  1   4   9  16]\n",
      " [ 25  36  49  64]\n",
      " [ 81 100 121 144]]\n",
      "Matrix multiplication of matrices A and B is:\n",
      "[[ 30  70 110]\n",
      " [ 70 174 278]\n",
      " [110 278 446]]\n",
      "Sum is:\n",
      "[[ 2  4  6  8]\n",
      " [10 12 14 16]\n",
      " [18 20 22 24]]\n",
      "difference between A and B is\n",
      "[[0 0 0 0]\n",
      " [0 0 0 0]\n",
      " [0 0 0 0]]\n",
      "B divide by A is :\n",
      "[[1. 1. 1. 1.]\n",
      " [1. 1. 1. 1.]\n",
      " [1. 1. 1. 1.]]\n"
     ]
    }
   ],
   "source": [
    "A = np.array([\n",
    "    [1,2,3,4],\n",
    "    [5,6,7,8],\n",
    "    [9,10,11,12]\n",
    "])\n",
    "\n",
    "B = np.array([\n",
    "    [1,2,3,4],\n",
    "    [5,6,7,8],\n",
    "    [9,10,11,12]\n",
    "])\n",
    "\n",
    "index_mul = A*B\n",
    "matrix_mul = A @ B.T\n",
    "add = A+B\n",
    "sub = A - B\n",
    "div = B / A\n",
    "\n",
    "print(\"Index wise matrix multiplication of matrices A and B is :\" )\n",
    "print(index_mul)\n",
    "\n",
    "\n",
    "print(\"Matrix multiplication of matrices A and B is:\" )\n",
    "print(matrix_mul)\n",
    "\n",
    "\n",
    "print(\"Sum is:\")\n",
    "print(add)\n",
    "\n",
    "\n",
    "print(\"difference between A and B is\")\n",
    "print( sub)\n",
    "\n",
    "\n",
    "print(\"B divide by A is :\")\n",
    "print( div)"
   ]
  },
  {
   "cell_type": "markdown",
   "id": "0762f6f7-abf0-4190-bbf4-dd5c9f23a832",
   "metadata": {},
   "source": [
    "# 12.  Which function in Numpy can be used to swap the byte order of an array?"
   ]
  },
  {
   "cell_type": "markdown",
   "id": "82dc32bc-fcad-4f3e-ac33-5cd034e75aeb",
   "metadata": {},
   "source": [
    "In Numpy, you can use the `numpy.ndarray.byteswap()` function to swap the byte order of an array. This function swaps the byte order (endianness) of the elements in the array in-place. Here is how we can do it.\n",
    "\n"
   ]
  },
  {
   "cell_type": "code",
   "execution_count": 40,
   "id": "1b9a139e-c548-4f9d-9699-35c4fd9e6ca5",
   "metadata": {},
   "outputs": [
    {
     "name": "stdout",
     "output_type": "stream",
     "text": [
      "Original array: [16777216    65536      256]\n"
     ]
    }
   ],
   "source": [
    "arr = np.array([1, 256, 65536], dtype=np.int32)\n",
    "\n",
    "\n",
    "arr.byteswap(True)                                   # Swap the byte order of the array\n",
    "\n",
    "print(\"Original array:\", arr)\n"
   ]
  },
  {
   "cell_type": "markdown",
   "id": "22e6dbf4-f864-4ca5-9eb6-0c90161764c5",
   "metadata": {},
   "source": [
    "# 13.  What is the significance of the np.linalg.inv function?"
   ]
  },
  {
   "cell_type": "markdown",
   "id": "4ef3e226-e04d-4bbe-9e41-97296a7e1ebf",
   "metadata": {},
   "source": [
    "The `np.linalg.inv()` function in numpy is used to compute the inverse of a square matrix.Here is how we do it"
   ]
  },
  {
   "cell_type": "code",
   "execution_count": 42,
   "id": "a14490db-7789-473b-82fc-8aeb9839b091",
   "metadata": {},
   "outputs": [
    {
     "name": "stdout",
     "output_type": "stream",
     "text": [
      "Original matrix A:\n",
      "[[ 1  2  3]\n",
      " [ 4  5  6]\n",
      " [ 7  8 10]]\n",
      "Inverse of matrix A:\n",
      "[[-0.66666667 -1.33333333  1.        ]\n",
      " [-0.66666667  3.66666667 -2.        ]\n",
      " [ 1.         -2.          1.        ]]\n"
     ]
    }
   ],
   "source": [
    "A = np.array([\n",
    "    [1, 2, 3],\n",
    "    [4, 5, 6],\n",
    "    [7, 8, 10]\n",
    "])\n",
    "\n",
    "# Compute the inverse of the matrix A\n",
    "A_inv = np.linalg.inv(A)\n",
    "\n",
    "print(\"Original matrix A:\")\n",
    "print(A)\n",
    "print(\"Inverse of matrix A:\")\n",
    "print(A_inv)\n"
   ]
  },
  {
   "cell_type": "markdown",
   "id": "815b1855-2fef-4a08-ae77-8b2040522bbe",
   "metadata": {},
   "source": [
    "# 14. What does the np.reshape function do, and how is it used?"
   ]
  },
  {
   "cell_type": "markdown",
   "id": "127889b6-b555-436b-a1ae-0ca995974949",
   "metadata": {},
   "source": [
    "`np.reshape` function reshapes an array into a new shape without changing its data. It returns a new array with the specified shape.\n",
    "\n"
   ]
  },
  {
   "cell_type": "code",
   "execution_count": 49,
   "id": "1165b3b7-85bc-489b-a0ef-216588de895f",
   "metadata": {},
   "outputs": [
    {
     "name": "stdout",
     "output_type": "stream",
     "text": [
      "Original array:\n",
      "[ 0  1  2  3  4  5  6  7  8  9 10 11]\n",
      "Reshaped array:\n",
      "[[ 0  1  2  3]\n",
      " [ 4  5  6  7]\n",
      " [ 8  9 10 11]]\n"
     ]
    }
   ],
   "source": [
    "# Example\n",
    "\n",
    "arr10 = np.arange(12)\n",
    "reshaped_arr = np.reshape(arr10, (3, 4))\n",
    "\n",
    "print(\"Original array:\")\n",
    "print(arr10)\n",
    "print(\"Reshaped array:\")\n",
    "print(reshaped_arr)\n"
   ]
  },
  {
   "cell_type": "markdown",
   "id": "408ab33f-0de5-4475-b5a0-31fdb3c43be7",
   "metadata": {},
   "source": [
    "# 15. What is broadcasting in numpy?\n"
   ]
  },
  {
   "cell_type": "markdown",
   "id": "2a3bbe69-81b5-4d33-a668-346d31e2a4fb",
   "metadata": {},
   "source": [
    "The term broadcasting refers to the ability of NumPy to treat arrays with different dimensions during arithmetic operations. This process involves certain rules that allow the smaller array to be ‘broadcast’ across the larger one, ensuring that they have compatible shapes for these operations."
   ]
  },
  {
   "cell_type": "code",
   "execution_count": 50,
   "id": "549e3ed2-3dc8-4b5f-956c-22282421d00b",
   "metadata": {},
   "outputs": [
    {
     "name": "stdout",
     "output_type": "stream",
     "text": [
      "[450 350   0  30]\n"
     ]
    }
   ],
   "source": [
    "# Example\n",
    "\n",
    "a = np.array([5, 7, 3, 1]) \n",
    "b = np.array([90, 50, 0, 30]) \n",
    "  \n",
    "# array are compatible because of same Dimension \n",
    "c = a * b \n",
    "print(c) "
   ]
  },
  {
   "cell_type": "code",
   "execution_count": null,
   "id": "764363a6-e208-4e65-aefa-ffc2821520ea",
   "metadata": {},
   "outputs": [],
   "source": []
  }
 ],
 "metadata": {
  "kernelspec": {
   "display_name": "Python 3 (ipykernel)",
   "language": "python",
   "name": "python3"
  },
  "language_info": {
   "codemirror_mode": {
    "name": "ipython",
    "version": 3
   },
   "file_extension": ".py",
   "mimetype": "text/x-python",
   "name": "python",
   "nbconvert_exporter": "python",
   "pygments_lexer": "ipython3",
   "version": "3.10.8"
  }
 },
 "nbformat": 4,
 "nbformat_minor": 5
}
